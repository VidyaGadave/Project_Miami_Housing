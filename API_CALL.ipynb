{
 "cells": [
  {
   "cell_type": "code",
   "execution_count": 1,
   "id": "ee9b47f7",
   "metadata": {},
   "outputs": [],
   "source": [
    "#Dependencies\n",
    "import requests\n",
    "import json\n",
    "\n",
    "# Import the API key\n",
    "from config import geoapify_key  \n",
    "\n",
    "\n"
   ]
  },
  {
   "cell_type": "code",
   "execution_count": 13,
   "id": "df6bc646",
   "metadata": {},
   "outputs": [],
   "source": [
    "# Set the geographical coordinates for Sydney, Australia\n",
    "latitude = 25.8930187999\n",
    "longitude = -80.1574258802\n",
    "\n",
    "# Set the parameters for the type of place\n",
    "categories = \"education.school\"\n",
    "radius = 1000"
   ]
  },
  {
   "cell_type": "code",
   "execution_count": 14,
   "id": "1dc836d4",
   "metadata": {},
   "outputs": [],
   "source": [
    "# Set the parameters for the type of search\n",
    "filters = f\"circle:{longitude},{latitude},{radius}\"\n",
    "bias = f\"proximity:{longitude},{latitude}\"\n",
    "limit = 20\n",
    "\n",
    "# set up a parameters dictionary\n",
    "params = {\n",
    "    \"categories\":categories,\n",
    "    \"bias\":bias,\n",
    "    \"apiKey\":geoapify_key,    \n",
    "    \"limit\":limit,\n",
    "    \"filter\":filters,\n",
    "    \"bias\":bias,\n",
    "}"
   ]
  },
  {
   "cell_type": "code",
   "execution_count": 15,
   "id": "8da12104",
   "metadata": {},
   "outputs": [
    {
     "name": "stdout",
     "output_type": "stream",
     "text": [
      "https://api.geoapify.com/v2/places?categories=education.school&bias=proximity%3A-80.1574258802%2C25.8930187999&apiKey=b9b490ba1c374ffe82e78ee87bb6df2e&limit=20&filter=circle%3A-80.1574258802%2C25.8930187999%2C1000\n"
     ]
    }
   ],
   "source": [
    "\n",
    "# Set base URL\n",
    "base_url = \"https://api.geoapify.com/v2/places\"\n",
    "\n",
    "# run a request using our params dictionary\n",
    "response = requests.get(base_url, params=params)   \n",
    "# print the response url, avoid doing for public github repos in order to avoid exposing key\n",
    "print(response.url)  \n"
   ]
  },
  {
   "cell_type": "code",
   "execution_count": 9,
   "id": "c7d79871",
   "metadata": {},
   "outputs": [
    {
     "name": "stdout",
     "output_type": "stream",
     "text": [
      "{\n",
      "    \"features\": [\n",
      "        {\n",
      "            \"geometry\": {\n",
      "                \"coordinates\": [\n",
      "                    -80.26663865584042,\n",
      "                    25.773855751536214\n",
      "                ],\n",
      "                \"type\": \"Point\"\n",
      "            },\n",
      "            \"properties\": {\n",
      "                \"address_line1\": \"Kinloch Park Middle School\",\n",
      "                \"address_line2\": \"4340 Northwest 3rd Street, Miami, FL 33126, United States of America\",\n",
      "                \"categories\": [\n",
      "                    \"education\",\n",
      "                    \"education.school\"\n",
      "                ],\n",
      "                \"city\": \"Miami\",\n",
      "                \"country\": \"United States\",\n",
      "                \"country_code\": \"us\",\n",
      "                \"county\": \"Miami-Dade County\",\n",
      "                \"datasource\": {\n",
      "                    \"attribution\": \"\\u00a9 OpenStreetMap contributors\",\n",
      "                    \"license\": \"Open Database Licence\",\n",
      "                    \"raw\": {\n",
      "                        \"addr:city\": \"Miami\",\n",
      "                        \"addr:housenumber\": 4340,\n",
      "                        \"addr:postcode\": 33126,\n",
      "                        \"addr:state\": \"FL\",\n",
      "                        \"addr:street\": \"Northwest 3rd Street\",\n",
      "                        \"amenity\": \"school\",\n",
      "                        \"ele\": 3,\n",
      "                        \"name\": \"Kinloch Park Middle School\",\n",
      "                        \"osm_id\": 167158231,\n",
      "                        \"osm_type\": \"w\"\n",
      "                    },\n",
      "                    \"sourcename\": \"openstreetmap\",\n",
      "                    \"url\": \"https://www.openstreetmap.org/copyright\"\n",
      "                },\n",
      "                \"details\": [],\n",
      "                \"distance\": 818,\n",
      "                \"formatted\": \"Kinloch Park Middle School, 4340 Northwest 3rd Street, Miami, FL 33126, United States of America\",\n",
      "                \"housenumber\": \"4340\",\n",
      "                \"lat\": 25.77426805,\n",
      "                \"lon\": -80.26680450814038,\n",
      "                \"name\": \"Kinloch Park Middle School\",\n",
      "                \"place_id\": \"51c7ab949b101154c05967ab18691bc63940f00102f901d7a1f6090000000092031a4b696e6c6f6368205061726b204d6964646c65205363686f6f6c\",\n",
      "                \"postcode\": \"33126\",\n",
      "                \"state\": \"Florida\",\n",
      "                \"state_code\": \"FL\",\n",
      "                \"street\": \"Northwest 3rd Street\"\n",
      "            },\n",
      "            \"type\": \"Feature\"\n",
      "        },\n",
      "        {\n",
      "            \"geometry\": {\n",
      "                \"coordinates\": [\n",
      "                    -80.2691667,\n",
      "                    25.775000000186672\n",
      "                ],\n",
      "                \"type\": \"Point\"\n",
      "            },\n",
      "            \"properties\": {\n",
      "                \"address_line1\": \"Aleida's Nursery School\",\n",
      "                \"address_line2\": \"Northwest 3rd Street, Miami, FL 33126, United States of America\",\n",
      "                \"categories\": [\n",
      "                    \"education\",\n",
      "                    \"education.school\"\n",
      "                ],\n",
      "                \"city\": \"Miami\",\n",
      "                \"country\": \"United States\",\n",
      "                \"country_code\": \"us\",\n",
      "                \"county\": \"Miami-Dade County\",\n",
      "                \"datasource\": {\n",
      "                    \"attribution\": \"\\u00a9 OpenStreetMap contributors\",\n",
      "                    \"license\": \"Open Database Licence\",\n",
      "                    \"raw\": {\n",
      "                        \"amenity\": \"school\",\n",
      "                        \"ele\": 2,\n",
      "                        \"name\": \"Aleida's Nursery School\",\n",
      "                        \"osm_id\": 358743390,\n",
      "                        \"osm_type\": \"n\"\n",
      "                    },\n",
      "                    \"sourcename\": \"openstreetmap\",\n",
      "                    \"url\": \"https://www.openstreetmap.org/copyright\"\n",
      "                },\n",
      "                \"details\": [],\n",
      "                \"distance\": 941,\n",
      "                \"formatted\": \"Aleida's Nursery School, Northwest 3rd Street, Miami, FL 33126, United States of America\",\n",
      "                \"lat\": 25.775,\n",
      "                \"lon\": -80.2691667,\n",
      "                \"name\": \"Aleida's Nursery School\",\n",
      "                \"place_id\": \"51066bf7063a1154c059a633676666c63940f00103f9015efd611500000000920317416c656964612773204e757273657279205363686f6f6c\",\n",
      "                \"postcode\": \"33126\",\n",
      "                \"state\": \"Florida\",\n",
      "                \"state_code\": \"FL\",\n",
      "                \"street\": \"Northwest 3rd Street\"\n",
      "            },\n",
      "            \"type\": \"Feature\"\n",
      "        }\n",
      "    ],\n",
      "    \"type\": \"FeatureCollection\"\n",
      "}\n"
     ]
    }
   ],
   "source": [
    "# convert response to json\n",
    "places_data = response.json()\n",
    "\n",
    "# Print the json (pretty printed)\n",
    "print(json.dumps(places_data, indent=4, sort_keys=True))"
   ]
  },
  {
   "cell_type": "code",
   "execution_count": 16,
   "id": "99803f63",
   "metadata": {},
   "outputs": [
    {
     "data": {
      "text/plain": [
       "[-80.26680450814038]"
      ]
     },
     "execution_count": 16,
     "metadata": {},
     "output_type": "execute_result"
    }
   ],
   "source": [
    "lat_lst = []\n",
    "long_list = []\n",
    "\n",
    "\n",
    "long_list.append(places_data[\"features\"][0][\"properties\"][\"lon\"])\n",
    "    \n",
    "long_list\n",
    "        "
   ]
  },
  {
   "cell_type": "code",
   "execution_count": 17,
   "id": "4d169229",
   "metadata": {},
   "outputs": [
    {
     "name": "stdout",
     "output_type": "stream",
     "text": [
      "-80.26680450814038\n",
      "25.77426805\n"
     ]
    }
   ],
   "source": [
    "print(places_data[\"features\"][0][\"properties\"][\"lon\"])\n",
    "print(places_data[\"features\"][0][\"properties\"][\"lat\"])"
   ]
  },
  {
   "cell_type": "code",
   "execution_count": null,
   "id": "43c3a497",
   "metadata": {},
   "outputs": [],
   "source": []
  }
 ],
 "metadata": {
  "kernelspec": {
   "display_name": "PythonData",
   "language": "python",
   "name": "pythondata"
  },
  "language_info": {
   "codemirror_mode": {
    "name": "ipython",
    "version": 3
   },
   "file_extension": ".py",
   "mimetype": "text/x-python",
   "name": "python",
   "nbconvert_exporter": "python",
   "pygments_lexer": "ipython3",
   "version": "3.7.7"
  }
 },
 "nbformat": 4,
 "nbformat_minor": 5
}
