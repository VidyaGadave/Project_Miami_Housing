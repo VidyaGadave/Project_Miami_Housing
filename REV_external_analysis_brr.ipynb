{
 "cells": [
  {
   "cell_type": "code",
   "execution_count": 1,
   "id": "8e98f72d",
   "metadata": {},
   "outputs": [],
   "source": [
    "# Import dependencies. \n",
    "\n",
    "import pandas as pd\n",
    "# import requests\n",
    "# import json\n",
    "import numpy as np\n",
    "import matplotlib.pyplot as plt\n",
    "import scipy.stats as st\n",
    "\n",
    "# Import the API key\n",
    "# from config_br import geoapify_key"
   ]
  },
  {
   "cell_type": "code",
   "execution_count": 2,
   "id": "24f67c88",
   "metadata": {},
   "outputs": [
    {
     "data": {
      "text/html": [
       "<div>\n",
       "<style scoped>\n",
       "    .dataframe tbody tr th:only-of-type {\n",
       "        vertical-align: middle;\n",
       "    }\n",
       "\n",
       "    .dataframe tbody tr th {\n",
       "        vertical-align: top;\n",
       "    }\n",
       "\n",
       "    .dataframe thead th {\n",
       "        text-align: right;\n",
       "    }\n",
       "</style>\n",
       "<table border=\"1\" class=\"dataframe\">\n",
       "  <thead>\n",
       "    <tr style=\"text-align: right;\">\n",
       "      <th></th>\n",
       "      <th>LATITUDE</th>\n",
       "      <th>LONGITUDE</th>\n",
       "      <th>PARCELNO</th>\n",
       "      <th>SALE_PRC</th>\n",
       "      <th>LND_SQFOOT</th>\n",
       "      <th>TOT_LVG_AREA</th>\n",
       "      <th>SPEC_FEAT_VAL</th>\n",
       "      <th>RAIL_DIST</th>\n",
       "      <th>OCEAN_DIST</th>\n",
       "      <th>WATER_DIST</th>\n",
       "      <th>...</th>\n",
       "      <th>SUBCNTR_DI</th>\n",
       "      <th>HWY_DIST</th>\n",
       "      <th>age</th>\n",
       "      <th>avno60plus</th>\n",
       "      <th>month_sold</th>\n",
       "      <th>structure_quality</th>\n",
       "      <th>post_code</th>\n",
       "      <th>school count</th>\n",
       "      <th>hosp count</th>\n",
       "      <th>rest count</th>\n",
       "    </tr>\n",
       "  </thead>\n",
       "  <tbody>\n",
       "    <tr>\n",
       "      <th>0</th>\n",
       "      <td>25.664650</td>\n",
       "      <td>-80.454970</td>\n",
       "      <td>3059080100500</td>\n",
       "      <td>391000.0</td>\n",
       "      <td>7096</td>\n",
       "      <td>3181</td>\n",
       "      <td>1280</td>\n",
       "      <td>7864.9</td>\n",
       "      <td>52246.5</td>\n",
       "      <td>41626.8</td>\n",
       "      <td>...</td>\n",
       "      <td>47379.1</td>\n",
       "      <td>22018.5</td>\n",
       "      <td>22</td>\n",
       "      <td>0</td>\n",
       "      <td>3</td>\n",
       "      <td>4</td>\n",
       "      <td>33196</td>\n",
       "      <td>2</td>\n",
       "      <td>1</td>\n",
       "      <td>0</td>\n",
       "    </tr>\n",
       "    <tr>\n",
       "      <th>1</th>\n",
       "      <td>25.851443</td>\n",
       "      <td>-80.175251</td>\n",
       "      <td>132080090270</td>\n",
       "      <td>420000.0</td>\n",
       "      <td>5555</td>\n",
       "      <td>1565</td>\n",
       "      <td>0</td>\n",
       "      <td>4070.8</td>\n",
       "      <td>18512.6</td>\n",
       "      <td>326.1</td>\n",
       "      <td>...</td>\n",
       "      <td>26516.6</td>\n",
       "      <td>10578.8</td>\n",
       "      <td>21</td>\n",
       "      <td>0</td>\n",
       "      <td>8</td>\n",
       "      <td>4</td>\n",
       "      <td>33138</td>\n",
       "      <td>6</td>\n",
       "      <td>6</td>\n",
       "      <td>10</td>\n",
       "    </tr>\n",
       "    <tr>\n",
       "      <th>2</th>\n",
       "      <td>25.539853</td>\n",
       "      <td>-80.386774</td>\n",
       "      <td>3069240001921</td>\n",
       "      <td>360000.0</td>\n",
       "      <td>46871</td>\n",
       "      <td>2400</td>\n",
       "      <td>194</td>\n",
       "      <td>11110.2</td>\n",
       "      <td>18526.1</td>\n",
       "      <td>10559.4</td>\n",
       "      <td>...</td>\n",
       "      <td>59032.3</td>\n",
       "      <td>3600.5</td>\n",
       "      <td>17</td>\n",
       "      <td>0</td>\n",
       "      <td>6</td>\n",
       "      <td>4</td>\n",
       "      <td>33032</td>\n",
       "      <td>0</td>\n",
       "      <td>0</td>\n",
       "      <td>0</td>\n",
       "    </tr>\n",
       "    <tr>\n",
       "      <th>3</th>\n",
       "      <td>25.821264</td>\n",
       "      <td>-80.380662</td>\n",
       "      <td>3530190022210</td>\n",
       "      <td>465000.0</td>\n",
       "      <td>4151</td>\n",
       "      <td>2253</td>\n",
       "      <td>3309</td>\n",
       "      <td>8771.4</td>\n",
       "      <td>57951.2</td>\n",
       "      <td>20335.1</td>\n",
       "      <td>...</td>\n",
       "      <td>47818.3</td>\n",
       "      <td>1899.8</td>\n",
       "      <td>19</td>\n",
       "      <td>0</td>\n",
       "      <td>4</td>\n",
       "      <td>5</td>\n",
       "      <td>33178</td>\n",
       "      <td>2</td>\n",
       "      <td>0</td>\n",
       "      <td>0</td>\n",
       "    </tr>\n",
       "    <tr>\n",
       "      <th>4</th>\n",
       "      <td>25.916466</td>\n",
       "      <td>-80.171423</td>\n",
       "      <td>722170181250</td>\n",
       "      <td>245000.0</td>\n",
       "      <td>4500</td>\n",
       "      <td>1318</td>\n",
       "      <td>1562</td>\n",
       "      <td>3212.8</td>\n",
       "      <td>16424.2</td>\n",
       "      <td>2745.2</td>\n",
       "      <td>...</td>\n",
       "      <td>47633.0</td>\n",
       "      <td>10676.0</td>\n",
       "      <td>21</td>\n",
       "      <td>0</td>\n",
       "      <td>12</td>\n",
       "      <td>4</td>\n",
       "      <td>33162</td>\n",
       "      <td>7</td>\n",
       "      <td>3</td>\n",
       "      <td>0</td>\n",
       "    </tr>\n",
       "  </tbody>\n",
       "</table>\n",
       "<p>5 rows × 21 columns</p>\n",
       "</div>"
      ],
      "text/plain": [
       "    LATITUDE  LONGITUDE       PARCELNO  SALE_PRC  LND_SQFOOT  TOT_LVG_AREA  \\\n",
       "0  25.664650 -80.454970  3059080100500  391000.0        7096          3181   \n",
       "1  25.851443 -80.175251   132080090270  420000.0        5555          1565   \n",
       "2  25.539853 -80.386774  3069240001921  360000.0       46871          2400   \n",
       "3  25.821264 -80.380662  3530190022210  465000.0        4151          2253   \n",
       "4  25.916466 -80.171423   722170181250  245000.0        4500          1318   \n",
       "\n",
       "   SPEC_FEAT_VAL  RAIL_DIST  OCEAN_DIST  WATER_DIST  ...  SUBCNTR_DI  \\\n",
       "0           1280     7864.9     52246.5     41626.8  ...     47379.1   \n",
       "1              0     4070.8     18512.6       326.1  ...     26516.6   \n",
       "2            194    11110.2     18526.1     10559.4  ...     59032.3   \n",
       "3           3309     8771.4     57951.2     20335.1  ...     47818.3   \n",
       "4           1562     3212.8     16424.2      2745.2  ...     47633.0   \n",
       "\n",
       "   HWY_DIST  age  avno60plus  month_sold  structure_quality  post_code  \\\n",
       "0   22018.5   22           0           3                  4      33196   \n",
       "1   10578.8   21           0           8                  4      33138   \n",
       "2    3600.5   17           0           6                  4      33032   \n",
       "3    1899.8   19           0           4                  5      33178   \n",
       "4   10676.0   21           0          12                  4      33162   \n",
       "\n",
       "   school count  hosp count  rest count  \n",
       "0             2           1           0  \n",
       "1             6           6          10  \n",
       "2             0           0           0  \n",
       "3             2           0           0  \n",
       "4             7           3           0  \n",
       "\n",
       "[5 rows x 21 columns]"
      ]
     },
     "execution_count": 2,
     "metadata": {},
     "output_type": "execute_result"
    }
   ],
   "source": [
    "# Read in the sample Miami dataset that includes our API calls for zip codes, school count, hospital count, restaurant count.\n",
    "\n",
    "miami_all_sample = pd.read_csv(\"TESTING_Miami_merge.csv\")\n",
    "miami_all_sample.head()"
   ]
  },
  {
   "cell_type": "markdown",
   "id": "69dbc1db",
   "metadata": {},
   "source": [
    "## Establish bins for school, hospital, and restaurants counts. Add values to new columns."
   ]
  },
  {
   "cell_type": "code",
   "execution_count": null,
   "id": "59e81bba",
   "metadata": {},
   "outputs": [],
   "source": []
  },
  {
   "cell_type": "code",
   "execution_count": null,
   "id": "8fddc4c6",
   "metadata": {},
   "outputs": [],
   "source": []
  },
  {
   "cell_type": "code",
   "execution_count": 3,
   "id": "4dc7a4ea",
   "metadata": {},
   "outputs": [
    {
     "name": "stdout",
     "output_type": "stream",
     "text": [
      "Max school count: 21\n",
      "Max hospital count: 13\n",
      "Max restaurant count: 25\n"
     ]
    }
   ],
   "source": [
    "# Determine max value in each category to determine bin ranges. \n",
    "\n",
    "max_school = miami_all_sample[\"school count\"].max()\n",
    "\n",
    "max_hosp = miami_all_sample[\"hosp count\"].max()\n",
    "\n",
    "max_rest = miami_all_sample[\"rest count\"].max()\n",
    "\n",
    "print(f\"Max school count: {max_school}\")\n",
    "print(f\"Max hospital count: {max_hosp}\")\n",
    "print(f\"Max restaurant count: {max_rest}\")\n"
   ]
  },
  {
   "cell_type": "code",
   "execution_count": 4,
   "id": "7f4b4551",
   "metadata": {},
   "outputs": [],
   "source": [
    "# Set bins for each category. \n",
    "\n",
    "school_bins = [0,1,5,10,25]\n",
    "school_labels = [\"Low\",\"Medium-Low\",\"Medium-High\",\"High\"]\n",
    "\n",
    "hosp_bins = [0,1,5,10,15]\n",
    "hosp_labels = [\"Low\",\"Medium-Low\",\"Medium-High\",\"High\"]\n",
    "\n",
    "rest_bins = [0,3,10,15,26]\n",
    "rest_labels = [\"Low\",\"Medium-Low\",\"Medium-High\",\"High\"]"
   ]
  },
  {
   "cell_type": "code",
   "execution_count": 5,
   "id": "13b842cd",
   "metadata": {},
   "outputs": [
    {
     "data": {
      "text/html": [
       "<div>\n",
       "<style scoped>\n",
       "    .dataframe tbody tr th:only-of-type {\n",
       "        vertical-align: middle;\n",
       "    }\n",
       "\n",
       "    .dataframe tbody tr th {\n",
       "        vertical-align: top;\n",
       "    }\n",
       "\n",
       "    .dataframe thead th {\n",
       "        text-align: right;\n",
       "    }\n",
       "</style>\n",
       "<table border=\"1\" class=\"dataframe\">\n",
       "  <thead>\n",
       "    <tr style=\"text-align: right;\">\n",
       "      <th></th>\n",
       "      <th>LATITUDE</th>\n",
       "      <th>LONGITUDE</th>\n",
       "      <th>PARCELNO</th>\n",
       "      <th>SALE_PRC</th>\n",
       "      <th>LND_SQFOOT</th>\n",
       "      <th>TOT_LVG_AREA</th>\n",
       "      <th>SPEC_FEAT_VAL</th>\n",
       "      <th>RAIL_DIST</th>\n",
       "      <th>OCEAN_DIST</th>\n",
       "      <th>WATER_DIST</th>\n",
       "      <th>...</th>\n",
       "      <th>avno60plus</th>\n",
       "      <th>month_sold</th>\n",
       "      <th>structure_quality</th>\n",
       "      <th>post_code</th>\n",
       "      <th>school count</th>\n",
       "      <th>hosp count</th>\n",
       "      <th>rest count</th>\n",
       "      <th>School Count Ranges</th>\n",
       "      <th>Hospital Count Ranges</th>\n",
       "      <th>Restaurant Count Ranges</th>\n",
       "    </tr>\n",
       "  </thead>\n",
       "  <tbody>\n",
       "    <tr>\n",
       "      <th>0</th>\n",
       "      <td>25.664650</td>\n",
       "      <td>-80.454970</td>\n",
       "      <td>3059080100500</td>\n",
       "      <td>391000.0</td>\n",
       "      <td>7096</td>\n",
       "      <td>3181</td>\n",
       "      <td>1280</td>\n",
       "      <td>7864.9</td>\n",
       "      <td>52246.5</td>\n",
       "      <td>41626.8</td>\n",
       "      <td>...</td>\n",
       "      <td>0</td>\n",
       "      <td>3</td>\n",
       "      <td>4</td>\n",
       "      <td>33196</td>\n",
       "      <td>2</td>\n",
       "      <td>1</td>\n",
       "      <td>0</td>\n",
       "      <td>Medium-Low</td>\n",
       "      <td>Low</td>\n",
       "      <td>Low</td>\n",
       "    </tr>\n",
       "    <tr>\n",
       "      <th>1</th>\n",
       "      <td>25.851443</td>\n",
       "      <td>-80.175251</td>\n",
       "      <td>132080090270</td>\n",
       "      <td>420000.0</td>\n",
       "      <td>5555</td>\n",
       "      <td>1565</td>\n",
       "      <td>0</td>\n",
       "      <td>4070.8</td>\n",
       "      <td>18512.6</td>\n",
       "      <td>326.1</td>\n",
       "      <td>...</td>\n",
       "      <td>0</td>\n",
       "      <td>8</td>\n",
       "      <td>4</td>\n",
       "      <td>33138</td>\n",
       "      <td>6</td>\n",
       "      <td>6</td>\n",
       "      <td>10</td>\n",
       "      <td>Medium-High</td>\n",
       "      <td>Medium-High</td>\n",
       "      <td>Medium-High</td>\n",
       "    </tr>\n",
       "    <tr>\n",
       "      <th>2</th>\n",
       "      <td>25.539853</td>\n",
       "      <td>-80.386774</td>\n",
       "      <td>3069240001921</td>\n",
       "      <td>360000.0</td>\n",
       "      <td>46871</td>\n",
       "      <td>2400</td>\n",
       "      <td>194</td>\n",
       "      <td>11110.2</td>\n",
       "      <td>18526.1</td>\n",
       "      <td>10559.4</td>\n",
       "      <td>...</td>\n",
       "      <td>0</td>\n",
       "      <td>6</td>\n",
       "      <td>4</td>\n",
       "      <td>33032</td>\n",
       "      <td>0</td>\n",
       "      <td>0</td>\n",
       "      <td>0</td>\n",
       "      <td>Low</td>\n",
       "      <td>Low</td>\n",
       "      <td>Low</td>\n",
       "    </tr>\n",
       "    <tr>\n",
       "      <th>3</th>\n",
       "      <td>25.821264</td>\n",
       "      <td>-80.380662</td>\n",
       "      <td>3530190022210</td>\n",
       "      <td>465000.0</td>\n",
       "      <td>4151</td>\n",
       "      <td>2253</td>\n",
       "      <td>3309</td>\n",
       "      <td>8771.4</td>\n",
       "      <td>57951.2</td>\n",
       "      <td>20335.1</td>\n",
       "      <td>...</td>\n",
       "      <td>0</td>\n",
       "      <td>4</td>\n",
       "      <td>5</td>\n",
       "      <td>33178</td>\n",
       "      <td>2</td>\n",
       "      <td>0</td>\n",
       "      <td>0</td>\n",
       "      <td>Medium-Low</td>\n",
       "      <td>Low</td>\n",
       "      <td>Low</td>\n",
       "    </tr>\n",
       "    <tr>\n",
       "      <th>4</th>\n",
       "      <td>25.916466</td>\n",
       "      <td>-80.171423</td>\n",
       "      <td>722170181250</td>\n",
       "      <td>245000.0</td>\n",
       "      <td>4500</td>\n",
       "      <td>1318</td>\n",
       "      <td>1562</td>\n",
       "      <td>3212.8</td>\n",
       "      <td>16424.2</td>\n",
       "      <td>2745.2</td>\n",
       "      <td>...</td>\n",
       "      <td>0</td>\n",
       "      <td>12</td>\n",
       "      <td>4</td>\n",
       "      <td>33162</td>\n",
       "      <td>7</td>\n",
       "      <td>3</td>\n",
       "      <td>0</td>\n",
       "      <td>Medium-High</td>\n",
       "      <td>Medium-Low</td>\n",
       "      <td>Low</td>\n",
       "    </tr>\n",
       "    <tr>\n",
       "      <th>...</th>\n",
       "      <td>...</td>\n",
       "      <td>...</td>\n",
       "      <td>...</td>\n",
       "      <td>...</td>\n",
       "      <td>...</td>\n",
       "      <td>...</td>\n",
       "      <td>...</td>\n",
       "      <td>...</td>\n",
       "      <td>...</td>\n",
       "      <td>...</td>\n",
       "      <td>...</td>\n",
       "      <td>...</td>\n",
       "      <td>...</td>\n",
       "      <td>...</td>\n",
       "      <td>...</td>\n",
       "      <td>...</td>\n",
       "      <td>...</td>\n",
       "      <td>...</td>\n",
       "      <td>...</td>\n",
       "      <td>...</td>\n",
       "      <td>...</td>\n",
       "    </tr>\n",
       "    <tr>\n",
       "      <th>945</th>\n",
       "      <td>25.472525</td>\n",
       "      <td>-80.433248</td>\n",
       "      <td>1079160050470</td>\n",
       "      <td>205000.0</td>\n",
       "      <td>6000</td>\n",
       "      <td>2099</td>\n",
       "      <td>552</td>\n",
       "      <td>15030.6</td>\n",
       "      <td>30519.2</td>\n",
       "      <td>19206.7</td>\n",
       "      <td>...</td>\n",
       "      <td>0</td>\n",
       "      <td>7</td>\n",
       "      <td>2</td>\n",
       "      <td>33033</td>\n",
       "      <td>0</td>\n",
       "      <td>2</td>\n",
       "      <td>1</td>\n",
       "      <td>Low</td>\n",
       "      <td>Medium-Low</td>\n",
       "      <td>Low</td>\n",
       "    </tr>\n",
       "    <tr>\n",
       "      <th>946</th>\n",
       "      <td>25.930984</td>\n",
       "      <td>-80.241814</td>\n",
       "      <td>3421100111170</td>\n",
       "      <td>190000.0</td>\n",
       "      <td>7500</td>\n",
       "      <td>1420</td>\n",
       "      <td>4216</td>\n",
       "      <td>7027.0</td>\n",
       "      <td>39768.1</td>\n",
       "      <td>715.2</td>\n",
       "      <td>...</td>\n",
       "      <td>0</td>\n",
       "      <td>9</td>\n",
       "      <td>4</td>\n",
       "      <td>33056</td>\n",
       "      <td>7</td>\n",
       "      <td>1</td>\n",
       "      <td>0</td>\n",
       "      <td>Medium-High</td>\n",
       "      <td>Low</td>\n",
       "      <td>Low</td>\n",
       "    </tr>\n",
       "    <tr>\n",
       "      <th>947</th>\n",
       "      <td>25.558126</td>\n",
       "      <td>-80.345804</td>\n",
       "      <td>3660160150250</td>\n",
       "      <td>364000.0</td>\n",
       "      <td>5250</td>\n",
       "      <td>2789</td>\n",
       "      <td>40975</td>\n",
       "      <td>11205.0</td>\n",
       "      <td>10543.6</td>\n",
       "      <td>2541.1</td>\n",
       "      <td>...</td>\n",
       "      <td>0</td>\n",
       "      <td>1</td>\n",
       "      <td>2</td>\n",
       "      <td>33190</td>\n",
       "      <td>0</td>\n",
       "      <td>1</td>\n",
       "      <td>0</td>\n",
       "      <td>Low</td>\n",
       "      <td>Low</td>\n",
       "      <td>Low</td>\n",
       "    </tr>\n",
       "    <tr>\n",
       "      <th>948</th>\n",
       "      <td>25.519528</td>\n",
       "      <td>-80.391422</td>\n",
       "      <td>3069360010840</td>\n",
       "      <td>165000.0</td>\n",
       "      <td>8183</td>\n",
       "      <td>1325</td>\n",
       "      <td>3192</td>\n",
       "      <td>18706.1</td>\n",
       "      <td>18337.1</td>\n",
       "      <td>14220.9</td>\n",
       "      <td>...</td>\n",
       "      <td>0</td>\n",
       "      <td>11</td>\n",
       "      <td>2</td>\n",
       "      <td>0</td>\n",
       "      <td>1</td>\n",
       "      <td>0</td>\n",
       "      <td>0</td>\n",
       "      <td>Low</td>\n",
       "      <td>Low</td>\n",
       "      <td>Low</td>\n",
       "    </tr>\n",
       "    <tr>\n",
       "      <th>949</th>\n",
       "      <td>25.953110</td>\n",
       "      <td>-80.276607</td>\n",
       "      <td>3411320031980</td>\n",
       "      <td>228000.0</td>\n",
       "      <td>7500</td>\n",
       "      <td>1815</td>\n",
       "      <td>5549</td>\n",
       "      <td>20642.8</td>\n",
       "      <td>51783.1</td>\n",
       "      <td>3414.5</td>\n",
       "      <td>...</td>\n",
       "      <td>0</td>\n",
       "      <td>9</td>\n",
       "      <td>5</td>\n",
       "      <td>33055</td>\n",
       "      <td>6</td>\n",
       "      <td>0</td>\n",
       "      <td>0</td>\n",
       "      <td>Medium-High</td>\n",
       "      <td>Low</td>\n",
       "      <td>Low</td>\n",
       "    </tr>\n",
       "  </tbody>\n",
       "</table>\n",
       "<p>950 rows × 24 columns</p>\n",
       "</div>"
      ],
      "text/plain": [
       "      LATITUDE  LONGITUDE       PARCELNO  SALE_PRC  LND_SQFOOT  TOT_LVG_AREA  \\\n",
       "0    25.664650 -80.454970  3059080100500  391000.0        7096          3181   \n",
       "1    25.851443 -80.175251   132080090270  420000.0        5555          1565   \n",
       "2    25.539853 -80.386774  3069240001921  360000.0       46871          2400   \n",
       "3    25.821264 -80.380662  3530190022210  465000.0        4151          2253   \n",
       "4    25.916466 -80.171423   722170181250  245000.0        4500          1318   \n",
       "..         ...        ...            ...       ...         ...           ...   \n",
       "945  25.472525 -80.433248  1079160050470  205000.0        6000          2099   \n",
       "946  25.930984 -80.241814  3421100111170  190000.0        7500          1420   \n",
       "947  25.558126 -80.345804  3660160150250  364000.0        5250          2789   \n",
       "948  25.519528 -80.391422  3069360010840  165000.0        8183          1325   \n",
       "949  25.953110 -80.276607  3411320031980  228000.0        7500          1815   \n",
       "\n",
       "     SPEC_FEAT_VAL  RAIL_DIST  OCEAN_DIST  WATER_DIST  ...  avno60plus  \\\n",
       "0             1280     7864.9     52246.5     41626.8  ...           0   \n",
       "1                0     4070.8     18512.6       326.1  ...           0   \n",
       "2              194    11110.2     18526.1     10559.4  ...           0   \n",
       "3             3309     8771.4     57951.2     20335.1  ...           0   \n",
       "4             1562     3212.8     16424.2      2745.2  ...           0   \n",
       "..             ...        ...         ...         ...  ...         ...   \n",
       "945            552    15030.6     30519.2     19206.7  ...           0   \n",
       "946           4216     7027.0     39768.1       715.2  ...           0   \n",
       "947          40975    11205.0     10543.6      2541.1  ...           0   \n",
       "948           3192    18706.1     18337.1     14220.9  ...           0   \n",
       "949           5549    20642.8     51783.1      3414.5  ...           0   \n",
       "\n",
       "     month_sold  structure_quality  post_code  school count  hosp count  \\\n",
       "0             3                  4      33196             2           1   \n",
       "1             8                  4      33138             6           6   \n",
       "2             6                  4      33032             0           0   \n",
       "3             4                  5      33178             2           0   \n",
       "4            12                  4      33162             7           3   \n",
       "..          ...                ...        ...           ...         ...   \n",
       "945           7                  2      33033             0           2   \n",
       "946           9                  4      33056             7           1   \n",
       "947           1                  2      33190             0           1   \n",
       "948          11                  2          0             1           0   \n",
       "949           9                  5      33055             6           0   \n",
       "\n",
       "     rest count  School Count Ranges  Hospital Count Ranges  \\\n",
       "0             0           Medium-Low                    Low   \n",
       "1            10          Medium-High            Medium-High   \n",
       "2             0                  Low                    Low   \n",
       "3             0           Medium-Low                    Low   \n",
       "4             0          Medium-High             Medium-Low   \n",
       "..          ...                  ...                    ...   \n",
       "945           1                  Low             Medium-Low   \n",
       "946           0          Medium-High                    Low   \n",
       "947           0                  Low                    Low   \n",
       "948           0                  Low                    Low   \n",
       "949           0          Medium-High                    Low   \n",
       "\n",
       "     Restaurant Count Ranges  \n",
       "0                        Low  \n",
       "1                Medium-High  \n",
       "2                        Low  \n",
       "3                        Low  \n",
       "4                        Low  \n",
       "..                       ...  \n",
       "945                      Low  \n",
       "946                      Low  \n",
       "947                      Low  \n",
       "948                      Low  \n",
       "949                      Low  \n",
       "\n",
       "[950 rows x 24 columns]"
      ]
     },
     "execution_count": 5,
     "metadata": {},
     "output_type": "execute_result"
    }
   ],
   "source": [
    "# Use `pd.cut` to categorize schools, hospitals, and restaurants based on the bins.\n",
    "\n",
    "miami_all_sample[\"School Count Ranges\"] = pd.cut(miami_all_sample[\"school count\"], school_bins, labels=school_labels, include_lowest=True)\n",
    "miami_all_sample[\"Hospital Count Ranges\"] = pd.cut(miami_all_sample[\"hosp count\"], hosp_bins, labels=hosp_labels, include_lowest=True)\n",
    "miami_all_sample[\"Restaurant Count Ranges\"] = pd.cut(miami_all_sample[\"rest count\"], hosp_bins, labels=hosp_labels, include_lowest=True)\n",
    "\n",
    "miami_all_sample"
   ]
  },
  {
   "cell_type": "markdown",
   "id": "b9a5c957",
   "metadata": {},
   "source": [
    "## School density analysis"
   ]
  },
  {
   "cell_type": "code",
   "execution_count": 8,
   "id": "5df98e27",
   "metadata": {},
   "outputs": [
    {
     "data": {
      "text/plain": [
       "School Count Ranges\n",
       "Low            335000.0\n",
       "Medium-Low     313250.0\n",
       "Medium-High    289900.0\n",
       "High           191500.0\n",
       "Name: SALE_PRC, dtype: float64"
      ]
     },
     "execution_count": 8,
     "metadata": {},
     "output_type": "execute_result"
    }
   ],
   "source": [
    "# Group the data by the school count bins to find the median home sale price for each bin. \n",
    "\n",
    "school_med_price = miami_all_sample.groupby(\"School Count Ranges\").median()[\"SALE_PRC\"]\n",
    "school_med_price"
   ]
  },
  {
   "cell_type": "code",
   "execution_count": 9,
   "id": "b3fd5b69",
   "metadata": {},
   "outputs": [
    {
     "data": {
      "text/plain": [
       "<matplotlib.axes._subplots.AxesSubplot at 0x24079c23b88>"
      ]
     },
     "execution_count": 9,
     "metadata": {},
     "output_type": "execute_result"
    },
    {
     "data": {
      "image/png": "[encoded data removed]",
      "text/plain": [
       "<Figure size 432x288 with 1 Axes>"
      ]
     },
     "metadata": {
      "needs_background": "light"
     },
     "output_type": "display_data"
    }
   ],
   "source": [
    "# Create a bar chart to show median home price for each school density group. \n",
    "\n",
    "school_med_price.plot(kind=\"bar\", title=\"Median Home Price by School Density\")"
   ]
  },
  {
   "cell_type": "code",
   "execution_count": 10,
   "id": "18ea4db6",
   "metadata": {},
   "outputs": [
    {
     "data": {
      "text/plain": [
       "School Count Ranges\n",
       "Low            235\n",
       "Medium-Low     432\n",
       "Medium-High    229\n",
       "High            54\n",
       "Name: SALE_PRC, dtype: int64"
      ]
     },
     "execution_count": 10,
     "metadata": {},
     "output_type": "execute_result"
    }
   ],
   "source": [
    "# Group the data by school density bins to find the number of homes sold within each bin. \n",
    "\n",
    "school_sale_count = miami_all_sample.groupby(\"School Count Ranges\").count()[\"SALE_PRC\"]\n",
    "school_sale_count"
   ]
  },
  {
   "cell_type": "code",
   "execution_count": 12,
   "id": "d8b3f892",
   "metadata": {},
   "outputs": [
    {
     "data": {
      "image/png": "[encoded data removed]",
      "text/plain": [
       "<Figure size 432x288 with 1 Axes>"
      ]
     },
     "metadata": {},
     "output_type": "display_data"
    }
   ],
   "source": [
    "# Create a pie chart to show percent of homes sold in each school density grouping. \n",
    "\n",
    "school_sale_count.plot(kind=\"pie\",y=\"School Density\",title=\"Percent of Home Sales by School Density\",autopct='%1.1f%%').set_ylabel(\"\")\n",
    "plt.savefig(\"pie_test.png\")\n"
   ]
  },
  {
   "cell_type": "markdown",
   "id": "e7f147b7",
   "metadata": {},
   "source": [
    "## Restaurant density analysis "
   ]
  },
  {
   "cell_type": "code",
   "execution_count": 13,
   "id": "7822fbbf",
   "metadata": {},
   "outputs": [
    {
     "data": {
      "text/plain": [
       "Restaurant Count Ranges\n",
       "Low            292000.0\n",
       "Medium-Low     362000.0\n",
       "Medium-High    337500.0\n",
       "High           421000.0\n",
       "Name: SALE_PRC, dtype: float64"
      ]
     },
     "execution_count": 13,
     "metadata": {},
     "output_type": "execute_result"
    }
   ],
   "source": [
    "# Group the data by the restaurant count bins to find the median home sale price for each bin. \n",
    "\n",
    "rest_med_price = miami_all_sample.groupby(\"Restaurant Count Ranges\").median()[\"SALE_PRC\"]\n",
    "rest_med_price"
   ]
  },
  {
   "cell_type": "code",
   "execution_count": 14,
   "id": "b807d306",
   "metadata": {},
   "outputs": [
    {
     "data": {
      "text/plain": [
       "<matplotlib.axes._subplots.AxesSubplot at 0x2407770cb48>"
      ]
     },
     "execution_count": 14,
     "metadata": {},
     "output_type": "execute_result"
    },
    {
     "data": {
      "image/png": "[encoded data removed]",
      "text/plain": [
       "<Figure size 432x288 with 1 Axes>"
      ]
     },
     "metadata": {
      "needs_background": "light"
     },
     "output_type": "display_data"
    }
   ],
   "source": [
    "# Create a bar chart to show median home price for each restaurant density group. \n",
    "\n",
    "rest_med_price.plot(kind=\"bar\", title=\"Median Home Price by Restaurant Density\")"
   ]
  },
  {
   "cell_type": "code",
   "execution_count": 15,
   "id": "b239ea64",
   "metadata": {},
   "outputs": [
    {
     "data": {
      "text/plain": [
       "Restaurant Count Ranges\n",
       "Low            667\n",
       "Medium-Low     202\n",
       "Medium-High     50\n",
       "High            13\n",
       "Name: SALE_PRC, dtype: int64"
      ]
     },
     "execution_count": 15,
     "metadata": {},
     "output_type": "execute_result"
    }
   ],
   "source": [
    "# Group the data by restaurant density bins to find the number of homes sold within each bin. \n",
    "\n",
    "rest_sale_count = miami_all_sample.groupby(\"Restaurant Count Ranges\").count()[\"SALE_PRC\"]\n",
    "rest_sale_count"
   ]
  },
  {
   "cell_type": "code",
   "execution_count": 16,
   "id": "79552f5a",
   "metadata": {},
   "outputs": [
    {
     "data": {
      "text/plain": [
       "Text(0, 0.5, '')"
      ]
     },
     "execution_count": 16,
     "metadata": {},
     "output_type": "execute_result"
    },
    {
     "data": {
      "image/png": "[encoded data removed]",
      "text/plain": [
       "<Figure size 432x288 with 1 Axes>"
      ]
     },
     "metadata": {},
     "output_type": "display_data"
    }
   ],
   "source": [
    "# Create a pie chart to show percent of homes sold in each restaurant density grouping. \n",
    "\n",
    "rest_sale_count.plot(kind=\"pie\",y=\"Restaurant Density\",title=\"Percent of Home Sales by Restaurant Density\",autopct='%1.1f%%').set_ylabel(\"\")"
   ]
  },
  {
   "cell_type": "code",
   "execution_count": 17,
   "id": "74053950",
   "metadata": {},
   "outputs": [
    {
     "data": {
      "text/plain": [
       "Restaurant Count Ranges\n",
       "Low            243462000.0\n",
       "Medium-Low      95397400.0\n",
       "Medium-High     20566700.0\n",
       "High             5750500.0\n",
       "Name: SALE_PRC, dtype: float64"
      ]
     },
     "execution_count": 17,
     "metadata": {},
     "output_type": "execute_result"
    }
   ],
   "source": [
    "# Let's try grouping the data by restaurant density bins to find the total of home sales for each bin. \n",
    "\n",
    "rest_sales_total = miami_all_sample.groupby(\"Restaurant Count Ranges\").sum()[\"SALE_PRC\"]\n",
    "rest_sales_total"
   ]
  },
  {
   "cell_type": "code",
   "execution_count": 19,
   "id": "98fc993d",
   "metadata": {},
   "outputs": [
    {
     "data": {
      "text/plain": [
       "Text(0, 0.5, '')"
      ]
     },
     "execution_count": 19,
     "metadata": {},
     "output_type": "execute_result"
    },
    {
     "data": {
      "image/png": "[encoded data removed]",
      "text/plain": [
       "<Figure size 432x288 with 1 Axes>"
      ]
     },
     "metadata": {},
     "output_type": "display_data"
    }
   ],
   "source": [
    "# Create a pie chart to show total sales in each restaurant density grouping. \n",
    "\n",
    "rest_sales_total.plot(kind=\"pie\",y=\"Restaurant Density\",title=\"Total Home Sales by Restaurant Density\",autopct='%1.1f%%').set_ylabel(\"\")"
   ]
  },
  {
   "cell_type": "code",
   "execution_count": null,
   "id": "152eda60",
   "metadata": {},
   "outputs": [],
   "source": []
  }
 ],
 "metadata": {
  "kernelspec": {
   "display_name": "PythonData",
   "language": "python",
   "name": "pythondata"
  },
  "language_info": {
   "codemirror_mode": {
    "name": "ipython",
    "version": 3
   },
   "file_extension": ".py",
   "mimetype": "text/x-python",
   "name": "python",
   "nbconvert_exporter": "python",
   "pygments_lexer": "ipython3",
   "version": "3.7.7"
  }
 },
 "nbformat": 4,
 "nbformat_minor": 5
}
