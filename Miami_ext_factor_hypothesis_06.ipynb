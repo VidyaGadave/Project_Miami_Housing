{
 "cells": [
  {
   "cell_type": "code",
   "execution_count": 1,
   "id": "05a33408",
   "metadata": {},
   "outputs": [],
   "source": [
    "# Import dependencies. \n",
    "\n",
    "import pandas as pd\n",
    "# import requests\n",
    "# import json\n",
    "import numpy as np\n",
    "import matplotlib.pyplot as plt\n",
    "import scipy.stats as st\n",
    "\n",
    "# Import the API key\n",
    "# from config_br import geoapify_key"
   ]
  },
  {
   "cell_type": "code",
   "execution_count": 2,
   "id": "d88ccf6b",
   "metadata": {},
   "outputs": [],
   "source": [
    "# We encountered an issue where the fully merged dataset -- which includes original dataset, \n",
    "# postcodes from Places Details API, and schools/hospitals/restaurants from Places API -- \n",
    "# was not reading properly into this new Jupyter Notebook. As a workaround, we read the two separate files \n",
    "# into two new dataframes and completed a new merge. This new merge is used in the below analysis.\n",
    "\n",
    "miami_api = pd.read_csv(\"miami_api_data.csv\")\n",
    "miami_postal = pd.read_csv('miami_data_enriched.csv')\n",
    "\n",
    "miami_all_sample = pd.merge(miami_postal, miami_api, how=\"left\", on=[\"LATITUDE\",\"LONGITUDE\"])\n",
    "\n",
    "# Read in the sample Miami dataset that includes our API calls for zip codes, school count, hospital count, restaurant count.\n",
    "\n",
    "# miami_all_sample = pd.read_csv(\"TESTING_Miami_merge.csv\")\n",
    "# miami_all_sample.head()"
   ]
  },
  {
   "cell_type": "markdown",
   "id": "824e4a87",
   "metadata": {},
   "source": [
    "## Establish bins for school, hospital, and restaurants counts. Add values to new columns."
   ]
  },
  {
   "cell_type": "code",
   "execution_count": 3,
   "id": "012db0d5",
   "metadata": {},
   "outputs": [
    {
     "name": "stdout",
     "output_type": "stream",
     "text": [
      "Max school count: 21\n",
      "Max hospital count: 13\n",
      "Max restaurant count: 25\n"
     ]
    }
   ],
   "source": [
    "# Determine max value in each category to determine bin ranges. \n",
    "\n",
    "max_school = miami_all_sample[\"school count\"].max()\n",
    "\n",
    "max_hosp = miami_all_sample[\"hosp count\"].max()\n",
    "\n",
    "max_rest = miami_all_sample[\"rest count\"].max()\n",
    "\n",
    "print(f\"Max school count: {max_school}\")\n",
    "print(f\"Max hospital count: {max_hosp}\")\n",
    "print(f\"Max restaurant count: {max_rest}\")\n"
   ]
  },
  {
   "cell_type": "code",
   "execution_count": 4,
   "id": "a47850cf",
   "metadata": {},
   "outputs": [],
   "source": [
    "# Set bins for each category. \n",
    "\n",
    "school_bins = [0,1,5,10,25]\n",
    "school_labels = [\"Low\",\"Medium-Low\",\"Medium-High\",\"High\"]\n",
    "\n",
    "hosp_bins = [0,1,5,10,15]\n",
    "hosp_labels = [\"Low\",\"Medium-Low\",\"Medium-High\",\"High\"]\n",
    "\n",
    "rest_bins = [0,3,10,15,26]\n",
    "rest_labels = [\"Low\",\"Medium-Low\",\"Medium-High\",\"High\"]"
   ]
  },
  {
   "cell_type": "code",
   "execution_count": 5,
   "id": "6b7424f4",
   "metadata": {},
   "outputs": [
    {
     "data": {
      "text/html": [
       "<div>\n",
       "<style scoped>\n",
       "    .dataframe tbody tr th:only-of-type {\n",
       "        vertical-align: middle;\n",
       "    }\n",
       "\n",
       "    .dataframe tbody tr th {\n",
       "        vertical-align: top;\n",
       "    }\n",
       "\n",
       "    .dataframe thead th {\n",
       "        text-align: right;\n",
       "    }\n",
       "</style>\n",
       "<table border=\"1\" class=\"dataframe\">\n",
       "  <thead>\n",
       "    <tr style=\"text-align: right;\">\n",
       "      <th></th>\n",
       "      <th>LATITUDE</th>\n",
       "      <th>LONGITUDE</th>\n",
       "      <th>PARCELNO</th>\n",
       "      <th>SALE_PRC</th>\n",
       "      <th>LND_SQFOOT</th>\n",
       "      <th>TOT_LVG_AREA</th>\n",
       "      <th>SPEC_FEAT_VAL</th>\n",
       "      <th>RAIL_DIST</th>\n",
       "      <th>OCEAN_DIST</th>\n",
       "      <th>WATER_DIST</th>\n",
       "      <th>...</th>\n",
       "      <th>avno60plus</th>\n",
       "      <th>month_sold</th>\n",
       "      <th>structure_quality</th>\n",
       "      <th>post_code</th>\n",
       "      <th>school count</th>\n",
       "      <th>hosp count</th>\n",
       "      <th>rest count</th>\n",
       "      <th>School Count Ranges</th>\n",
       "      <th>Hospital Count Ranges</th>\n",
       "      <th>Restaurant Count Ranges</th>\n",
       "    </tr>\n",
       "  </thead>\n",
       "  <tbody>\n",
       "    <tr>\n",
       "      <th>0</th>\n",
       "      <td>25.664650</td>\n",
       "      <td>-80.454970</td>\n",
       "      <td>3059080100500</td>\n",
       "      <td>391000.0</td>\n",
       "      <td>7096</td>\n",
       "      <td>3181</td>\n",
       "      <td>1280</td>\n",
       "      <td>7864.9</td>\n",
       "      <td>52246.5</td>\n",
       "      <td>41626.8</td>\n",
       "      <td>...</td>\n",
       "      <td>0</td>\n",
       "      <td>3</td>\n",
       "      <td>4</td>\n",
       "      <td>33196</td>\n",
       "      <td>2</td>\n",
       "      <td>1</td>\n",
       "      <td>0</td>\n",
       "      <td>Medium-Low</td>\n",
       "      <td>Low</td>\n",
       "      <td>Low</td>\n",
       "    </tr>\n",
       "    <tr>\n",
       "      <th>1</th>\n",
       "      <td>25.851443</td>\n",
       "      <td>-80.175251</td>\n",
       "      <td>132080090270</td>\n",
       "      <td>420000.0</td>\n",
       "      <td>5555</td>\n",
       "      <td>1565</td>\n",
       "      <td>0</td>\n",
       "      <td>4070.8</td>\n",
       "      <td>18512.6</td>\n",
       "      <td>326.1</td>\n",
       "      <td>...</td>\n",
       "      <td>0</td>\n",
       "      <td>8</td>\n",
       "      <td>4</td>\n",
       "      <td>33138</td>\n",
       "      <td>6</td>\n",
       "      <td>6</td>\n",
       "      <td>10</td>\n",
       "      <td>Medium-High</td>\n",
       "      <td>Medium-High</td>\n",
       "      <td>Medium-High</td>\n",
       "    </tr>\n",
       "    <tr>\n",
       "      <th>2</th>\n",
       "      <td>25.539853</td>\n",
       "      <td>-80.386774</td>\n",
       "      <td>3069240001921</td>\n",
       "      <td>360000.0</td>\n",
       "      <td>46871</td>\n",
       "      <td>2400</td>\n",
       "      <td>194</td>\n",
       "      <td>11110.2</td>\n",
       "      <td>18526.1</td>\n",
       "      <td>10559.4</td>\n",
       "      <td>...</td>\n",
       "      <td>0</td>\n",
       "      <td>6</td>\n",
       "      <td>4</td>\n",
       "      <td>33032</td>\n",
       "      <td>0</td>\n",
       "      <td>0</td>\n",
       "      <td>0</td>\n",
       "      <td>Low</td>\n",
       "      <td>Low</td>\n",
       "      <td>Low</td>\n",
       "    </tr>\n",
       "    <tr>\n",
       "      <th>3</th>\n",
       "      <td>25.821264</td>\n",
       "      <td>-80.380662</td>\n",
       "      <td>3530190022210</td>\n",
       "      <td>465000.0</td>\n",
       "      <td>4151</td>\n",
       "      <td>2253</td>\n",
       "      <td>3309</td>\n",
       "      <td>8771.4</td>\n",
       "      <td>57951.2</td>\n",
       "      <td>20335.1</td>\n",
       "      <td>...</td>\n",
       "      <td>0</td>\n",
       "      <td>4</td>\n",
       "      <td>5</td>\n",
       "      <td>33178</td>\n",
       "      <td>2</td>\n",
       "      <td>0</td>\n",
       "      <td>0</td>\n",
       "      <td>Medium-Low</td>\n",
       "      <td>Low</td>\n",
       "      <td>Low</td>\n",
       "    </tr>\n",
       "    <tr>\n",
       "      <th>4</th>\n",
       "      <td>25.916466</td>\n",
       "      <td>-80.171423</td>\n",
       "      <td>722170181250</td>\n",
       "      <td>245000.0</td>\n",
       "      <td>4500</td>\n",
       "      <td>1318</td>\n",
       "      <td>1562</td>\n",
       "      <td>3212.8</td>\n",
       "      <td>16424.2</td>\n",
       "      <td>2745.2</td>\n",
       "      <td>...</td>\n",
       "      <td>0</td>\n",
       "      <td>12</td>\n",
       "      <td>4</td>\n",
       "      <td>33162</td>\n",
       "      <td>7</td>\n",
       "      <td>3</td>\n",
       "      <td>0</td>\n",
       "      <td>Medium-High</td>\n",
       "      <td>Medium-Low</td>\n",
       "      <td>Low</td>\n",
       "    </tr>\n",
       "  </tbody>\n",
       "</table>\n",
       "<p>5 rows × 24 columns</p>\n",
       "</div>"
      ],
      "text/plain": [
       "    LATITUDE  LONGITUDE       PARCELNO  SALE_PRC  LND_SQFOOT  TOT_LVG_AREA  \\\n",
       "0  25.664650 -80.454970  3059080100500  391000.0        7096          3181   \n",
       "1  25.851443 -80.175251   132080090270  420000.0        5555          1565   \n",
       "2  25.539853 -80.386774  3069240001921  360000.0       46871          2400   \n",
       "3  25.821264 -80.380662  3530190022210  465000.0        4151          2253   \n",
       "4  25.916466 -80.171423   722170181250  245000.0        4500          1318   \n",
       "\n",
       "   SPEC_FEAT_VAL  RAIL_DIST  OCEAN_DIST  WATER_DIST  ...  avno60plus  \\\n",
       "0           1280     7864.9     52246.5     41626.8  ...           0   \n",
       "1              0     4070.8     18512.6       326.1  ...           0   \n",
       "2            194    11110.2     18526.1     10559.4  ...           0   \n",
       "3           3309     8771.4     57951.2     20335.1  ...           0   \n",
       "4           1562     3212.8     16424.2      2745.2  ...           0   \n",
       "\n",
       "   month_sold  structure_quality  post_code  school count  hosp count  \\\n",
       "0           3                  4      33196             2           1   \n",
       "1           8                  4      33138             6           6   \n",
       "2           6                  4      33032             0           0   \n",
       "3           4                  5      33178             2           0   \n",
       "4          12                  4      33162             7           3   \n",
       "\n",
       "   rest count  School Count Ranges  Hospital Count Ranges  \\\n",
       "0           0           Medium-Low                    Low   \n",
       "1          10          Medium-High            Medium-High   \n",
       "2           0                  Low                    Low   \n",
       "3           0           Medium-Low                    Low   \n",
       "4           0          Medium-High             Medium-Low   \n",
       "\n",
       "   Restaurant Count Ranges  \n",
       "0                      Low  \n",
       "1              Medium-High  \n",
       "2                      Low  \n",
       "3                      Low  \n",
       "4                      Low  \n",
       "\n",
       "[5 rows x 24 columns]"
      ]
     },
     "execution_count": 5,
     "metadata": {},
     "output_type": "execute_result"
    }
   ],
   "source": [
    "# Use `pd.cut` to categorize schools, hospitals, and restaurants based on the bins.\n",
    "\n",
    "miami_all_sample[\"School Count Ranges\"] = pd.cut(miami_all_sample[\"school count\"], school_bins, labels=school_labels, include_lowest=True)\n",
    "miami_all_sample[\"Hospital Count Ranges\"] = pd.cut(miami_all_sample[\"hosp count\"], hosp_bins, labels=hosp_labels, include_lowest=True)\n",
    "miami_all_sample[\"Restaurant Count Ranges\"] = pd.cut(miami_all_sample[\"rest count\"], hosp_bins, labels=hosp_labels, include_lowest=True)\n",
    "\n",
    "miami_all_sample.head()"
   ]
  },
  {
   "cell_type": "markdown",
   "id": "a02ec0cb",
   "metadata": {},
   "source": [
    "## School density analysis"
   ]
  },
  {
   "cell_type": "code",
   "execution_count": 6,
   "id": "72f25340",
   "metadata": {},
   "outputs": [
    {
     "data": {
      "text/plain": [
       "School Count Ranges\n",
       "Low            335000.0\n",
       "Medium-Low     313250.0\n",
       "Medium-High    289900.0\n",
       "High           191500.0\n",
       "Name: SALE_PRC, dtype: float64"
      ]
     },
     "execution_count": 6,
     "metadata": {},
     "output_type": "execute_result"
    }
   ],
   "source": [
    "# Group the data by the school count bins to find the median home sale price for each bin. \n",
    "\n",
    "school_med_price = miami_all_sample.groupby(\"School Count Ranges\").median()[\"SALE_PRC\"]\n",
    "school_med_price"
   ]
  },
  {
   "cell_type": "code",
   "execution_count": 7,
   "id": "173611b3",
   "metadata": {},
   "outputs": [
    {
     "data": {
      "image/png": "[encoded data removed]",
      "text/plain": [
       "<Figure size 432x288 with 1 Axes>"
      ]
     },
     "metadata": {
      "needs_background": "light"
     },
     "output_type": "display_data"
    }
   ],
   "source": [
    "# Create a bar chart to show median home price for each school density group. \n",
    "\n",
    "school_med_price.plot(kind=\"bar\", title=\"Median Home Price by School Density Category\")\n",
    "plt.xlabel(\"School Density\")\n",
    "plt.xticks(rotation=45)\n",
    "plt.ylabel(\"Sale Price\")\n",
    "plt.savefig(\"Images/sales_count_school_density_bar.png\")"
   ]
  },
  {
   "cell_type": "code",
   "execution_count": 8,
   "id": "5efd13c9",
   "metadata": {},
   "outputs": [
    {
     "data": {
      "text/plain": [
       "School Count Ranges\n",
       "Low            235\n",
       "Medium-Low     432\n",
       "Medium-High    229\n",
       "High            54\n",
       "Name: SALE_PRC, dtype: int64"
      ]
     },
     "execution_count": 8,
     "metadata": {},
     "output_type": "execute_result"
    }
   ],
   "source": [
    "# Group the data by school density bins to find the number of homes sold within each bin. \n",
    "\n",
    "school_sale_count = miami_all_sample.groupby(\"School Count Ranges\").count()[\"SALE_PRC\"]\n",
    "school_sale_count"
   ]
  },
  {
   "cell_type": "code",
   "execution_count": 9,
   "id": "cc9aae37",
   "metadata": {},
   "outputs": [
    {
     "data": {
      "image/png": "[encoded data removed]",
      "text/plain": [
       "<Figure size 432x288 with 1 Axes>"
      ]
     },
     "metadata": {},
     "output_type": "display_data"
    }
   ],
   "source": [
    "# Create a pie chart to show percent of homes sold in each school density grouping. \n",
    "\n",
    "school_sale_count.plot(kind=\"pie\",y=\"School Density\",title=\"Percent of Home Sales by School Density Category\",autopct='%1.1f%%').set_ylabel(\"\")\n",
    "plt.savefig(\"Images/sales_count_school_density_pie.png\")\n"
   ]
  },
  {
   "cell_type": "markdown",
   "id": "11bb504f",
   "metadata": {},
   "source": [
    "## Restaurant density analysis "
   ]
  },
  {
   "cell_type": "code",
   "execution_count": 10,
   "id": "31473630",
   "metadata": {},
   "outputs": [
    {
     "data": {
      "text/plain": [
       "Restaurant Count Ranges\n",
       "Low            292000.0\n",
       "Medium-Low     362000.0\n",
       "Medium-High    337500.0\n",
       "High           421000.0\n",
       "Name: SALE_PRC, dtype: float64"
      ]
     },
     "execution_count": 10,
     "metadata": {},
     "output_type": "execute_result"
    }
   ],
   "source": [
    "# Group the data by the restaurant count bins to find the median home sale price for each bin. \n",
    "\n",
    "rest_med_price = miami_all_sample.groupby(\"Restaurant Count Ranges\").median()[\"SALE_PRC\"]\n",
    "rest_med_price"
   ]
  },
  {
   "cell_type": "code",
   "execution_count": 11,
   "id": "ae7c73c2",
   "metadata": {},
   "outputs": [
    {
     "data": {
      "image/png": "[encoded data removed]",
      "text/plain": [
       "<Figure size 432x288 with 1 Axes>"
      ]
     },
     "metadata": {
      "needs_background": "light"
     },
     "output_type": "display_data"
    }
   ],
   "source": [
    "# Create a bar chart to show median home price for each restaurant density group. \n",
    "\n",
    "rest_med_price.plot(kind=\"bar\", title=\"Median Home Price by Restaurant Density Category\")\n",
    "plt.savefig(\"Images/sales_median_restaurant_density_bar.png\")"
   ]
  },
  {
   "cell_type": "code",
   "execution_count": 12,
   "id": "c839e553",
   "metadata": {},
   "outputs": [
    {
     "data": {
      "text/plain": [
       "Restaurant Count Ranges\n",
       "Low            667\n",
       "Medium-Low     202\n",
       "Medium-High     50\n",
       "High            13\n",
       "Name: SALE_PRC, dtype: int64"
      ]
     },
     "execution_count": 12,
     "metadata": {},
     "output_type": "execute_result"
    }
   ],
   "source": [
    "# Group the data by restaurant density bins to find the number of homes sold within each bin. \n",
    "\n",
    "rest_sale_count = miami_all_sample.groupby(\"Restaurant Count Ranges\").count()[\"SALE_PRC\"]\n",
    "rest_sale_count"
   ]
  },
  {
   "cell_type": "code",
   "execution_count": 13,
   "id": "28f55224",
   "metadata": {},
   "outputs": [
    {
     "data": {
      "image/png": "[encoded data removed]",
      "text/plain": [
       "<Figure size 432x288 with 1 Axes>"
      ]
     },
     "metadata": {},
     "output_type": "display_data"
    }
   ],
   "source": [
    "# Create a pie chart to show percent of homes sold in each restaurant density grouping. \n",
    "\n",
    "rest_sale_count.plot(kind=\"pie\",y=\"Restaurant Density\",title=\"Percent of Home Sales by Restaurant Density\",autopct='%1.1f%%').set_ylabel(\"\")\n",
    "plt.savefig(\"Images/sales_count_restaurant_density_pie.png\")"
   ]
  },
  {
   "cell_type": "code",
   "execution_count": 14,
   "id": "30550b04",
   "metadata": {},
   "outputs": [
    {
     "data": {
      "text/plain": [
       "Restaurant Count Ranges\n",
       "Low            243462000.0\n",
       "Medium-Low      95397400.0\n",
       "Medium-High     20566700.0\n",
       "High             5750500.0\n",
       "Name: SALE_PRC, dtype: float64"
      ]
     },
     "execution_count": 14,
     "metadata": {},
     "output_type": "execute_result"
    }
   ],
   "source": [
    "# Let's try grouping the data by restaurant density bins to find the total of home sales for each bin. \n",
    "\n",
    "rest_sales_total = miami_all_sample.groupby(\"Restaurant Count Ranges\").sum()[\"SALE_PRC\"]\n",
    "rest_sales_total"
   ]
  },
  {
   "cell_type": "code",
   "execution_count": 15,
   "id": "723798e6",
   "metadata": {},
   "outputs": [
    {
     "data": {
      "image/png": "[encoded data removed]",
      "text/plain": [
       "<Figure size 432x288 with 1 Axes>"
      ]
     },
     "metadata": {},
     "output_type": "display_data"
    }
   ],
   "source": [
    "# Create a pie chart to show total sales in each restaurant density grouping. \n",
    "\n",
    "rest_sales_total.plot(kind=\"pie\",y=\"Restaurant Density\",title=\"Total Home Sales by Restaurant Density\",autopct='%1.1f%%').set_ylabel(\"\")\n",
    "plt.savefig(\"Images/sales_total_restaurant_density_pie.png\")"
   ]
  },
  {
   "cell_type": "code",
   "execution_count": null,
   "id": "86fae502",
   "metadata": {},
   "outputs": [],
   "source": []
  }
 ],
 "metadata": {
  "kernelspec": {
   "display_name": "PythonData",
   "language": "python",
   "name": "pythondata"
  },
  "language_info": {
   "codemirror_mode": {
    "name": "ipython",
    "version": 3
   },
   "file_extension": ".py",
   "mimetype": "text/x-python",
   "name": "python",
   "nbconvert_exporter": "python",
   "pygments_lexer": "ipython3",
   "version": "3.7.7"
  }
 },
 "nbformat": 4,
 "nbformat_minor": 5
}
