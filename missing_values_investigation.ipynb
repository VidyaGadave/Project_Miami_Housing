{
 "cells": [
  {
   "cell_type": "code",
   "execution_count": 1,
   "id": "e73f2958",
   "metadata": {},
   "outputs": [],
   "source": [
    "# Import dependencies. \n",
    "\n",
    "import pandas as pd\n",
    "# import requests\n",
    "# import json\n",
    "# import numpy as np\n",
    "# import matplotlib.pyplot as plt\n",
    "# import scipy.stats as st\n",
    "\n",
    "# Import the API key\n",
    "# from config_br import geoapify_key"
   ]
  },
  {
   "cell_type": "code",
   "execution_count": null,
   "id": "ceb334b3",
   "metadata": {},
   "outputs": [],
   "source": [
    "# Need to investigate where we're losing some values from schools, hospitals, restaurants. "
   ]
  },
  {
   "cell_type": "code",
   "execution_count": 6,
   "id": "05bd3916",
   "metadata": {},
   "outputs": [
    {
     "name": "stdout",
     "output_type": "stream",
     "text": [
      "<class 'pandas.core.frame.DataFrame'>\n",
      "RangeIndex: 950 entries, 0 to 949\n",
      "Data columns (total 21 columns):\n",
      " #   Column             Non-Null Count  Dtype  \n",
      "---  ------             --------------  -----  \n",
      " 0   LATITUDE           950 non-null    float64\n",
      " 1   LONGITUDE          950 non-null    float64\n",
      " 2   PARCELNO           950 non-null    int64  \n",
      " 3   SALE_PRC           950 non-null    float64\n",
      " 4   LND_SQFOOT         950 non-null    int64  \n",
      " 5   TOT_LVG_AREA       950 non-null    int64  \n",
      " 6   SPEC_FEAT_VAL      950 non-null    int64  \n",
      " 7   RAIL_DIST          950 non-null    float64\n",
      " 8   OCEAN_DIST         950 non-null    float64\n",
      " 9   WATER_DIST         950 non-null    float64\n",
      " 10  CNTR_DIST          950 non-null    float64\n",
      " 11  SUBCNTR_DI         950 non-null    float64\n",
      " 12  HWY_DIST           950 non-null    float64\n",
      " 13  age                950 non-null    int64  \n",
      " 14  avno60plus         950 non-null    int64  \n",
      " 15  month_sold         950 non-null    int64  \n",
      " 16  structure_quality  950 non-null    int64  \n",
      " 17  post_code          950 non-null    int64  \n",
      " 18  school count       939 non-null    float64\n",
      " 19  hosp count         939 non-null    float64\n",
      " 20  rest count         939 non-null    float64\n",
      "dtypes: float64(12), int64(9)\n",
      "memory usage: 156.0 KB\n"
     ]
    }
   ],
   "source": [
    "# Here's the issue:\n",
    "# This SHOULD be the fully merged file, BUT it looks like we only have 939 values for school count, restaurant count, hospital count. \n",
    "\n",
    "miami_all_sample = pd.read_csv('miami_merged_data_with_API.csv')\n",
    "miami_all_sample.info()"
   ]
  },
  {
   "cell_type": "code",
   "execution_count": 2,
   "id": "752be21a",
   "metadata": {},
   "outputs": [
    {
     "name": "stdout",
     "output_type": "stream",
     "text": [
      "<class 'pandas.core.frame.DataFrame'>\n",
      "RangeIndex: 950 entries, 0 to 949\n",
      "Data columns (total 5 columns):\n",
      " #   Column        Non-Null Count  Dtype  \n",
      "---  ------        --------------  -----  \n",
      " 0   LATITUDE      950 non-null    float64\n",
      " 1   LONGITUDE     950 non-null    float64\n",
      " 2   school count  950 non-null    int64  \n",
      " 3   hosp count    950 non-null    int64  \n",
      " 4   rest count    950 non-null    int64  \n",
      "dtypes: float64(2), int64(3)\n",
      "memory usage: 37.2 KB\n"
     ]
    }
   ],
   "source": [
    "# Here's the full dataset for our API pull requests using Places (schools, hospitals, restaurants)\n",
    "# All 950 values still here.\n",
    "\n",
    "miami_api = pd.read_csv(\"miami_api_data.csv\")\n",
    "miami_api.info()"
   ]
  },
  {
   "cell_type": "code",
   "execution_count": 3,
   "id": "ff4e4e14",
   "metadata": {},
   "outputs": [
    {
     "name": "stdout",
     "output_type": "stream",
     "text": [
      "<class 'pandas.core.frame.DataFrame'>\n",
      "RangeIndex: 950 entries, 0 to 949\n",
      "Data columns (total 18 columns):\n",
      " #   Column             Non-Null Count  Dtype  \n",
      "---  ------             --------------  -----  \n",
      " 0   LATITUDE           950 non-null    float64\n",
      " 1   LONGITUDE          950 non-null    float64\n",
      " 2   PARCELNO           950 non-null    int64  \n",
      " 3   SALE_PRC           950 non-null    float64\n",
      " 4   LND_SQFOOT         950 non-null    int64  \n",
      " 5   TOT_LVG_AREA       950 non-null    int64  \n",
      " 6   SPEC_FEAT_VAL      950 non-null    int64  \n",
      " 7   RAIL_DIST          950 non-null    float64\n",
      " 8   OCEAN_DIST         950 non-null    float64\n",
      " 9   WATER_DIST         950 non-null    float64\n",
      " 10  CNTR_DIST          950 non-null    float64\n",
      " 11  SUBCNTR_DI         950 non-null    float64\n",
      " 12  HWY_DIST           950 non-null    float64\n",
      " 13  age                950 non-null    int64  \n",
      " 14  avno60plus         950 non-null    int64  \n",
      " 15  month_sold         950 non-null    int64  \n",
      " 16  structure_quality  950 non-null    int64  \n",
      " 17  post_code          950 non-null    int64  \n",
      "dtypes: float64(9), int64(9)\n",
      "memory usage: 133.7 KB\n"
     ]
    }
   ],
   "source": [
    "# And here's the \"enriched\" dataset that is the full sample data plus the zip codes that Vidya pulled. \n",
    "# Still good here -- all columns have 950 values. \n",
    "\n",
    "miami_postal = pd.read_csv('miami_data_enriched.csv')\n",
    "miami_postal.info()"
   ]
  },
  {
   "cell_type": "code",
   "execution_count": 5,
   "id": "d42dd210",
   "metadata": {},
   "outputs": [
    {
     "name": "stdout",
     "output_type": "stream",
     "text": [
      "<class 'pandas.core.frame.DataFrame'>\n",
      "Int64Index: 950 entries, 0 to 949\n",
      "Data columns (total 21 columns):\n",
      " #   Column             Non-Null Count  Dtype  \n",
      "---  ------             --------------  -----  \n",
      " 0   LATITUDE           950 non-null    float64\n",
      " 1   LONGITUDE          950 non-null    float64\n",
      " 2   PARCELNO           950 non-null    int64  \n",
      " 3   SALE_PRC           950 non-null    float64\n",
      " 4   LND_SQFOOT         950 non-null    int64  \n",
      " 5   TOT_LVG_AREA       950 non-null    int64  \n",
      " 6   SPEC_FEAT_VAL      950 non-null    int64  \n",
      " 7   RAIL_DIST          950 non-null    float64\n",
      " 8   OCEAN_DIST         950 non-null    float64\n",
      " 9   WATER_DIST         950 non-null    float64\n",
      " 10  CNTR_DIST          950 non-null    float64\n",
      " 11  SUBCNTR_DI         950 non-null    float64\n",
      " 12  HWY_DIST           950 non-null    float64\n",
      " 13  age                950 non-null    int64  \n",
      " 14  avno60plus         950 non-null    int64  \n",
      " 15  month_sold         950 non-null    int64  \n",
      " 16  structure_quality  950 non-null    int64  \n",
      " 17  post_code          950 non-null    int64  \n",
      " 18  school count       950 non-null    int64  \n",
      " 19  hosp count         950 non-null    int64  \n",
      " 20  rest count         950 non-null    int64  \n",
      "dtypes: float64(9), int64(12)\n",
      "memory usage: 163.3 KB\n"
     ]
    }
   ],
   "source": [
    "# And here's how I merged these, and I still haven't lost those values. \n",
    "\n",
    "miami_merged_data = pd.merge(miami_postal, miami_api, how=\"left\", on=[\"LATITUDE\",\"LONGITUDE\"])\n",
    "miami_merged_data.info()"
   ]
  },
  {
   "cell_type": "code",
   "execution_count": 8,
   "id": "f88d72a9",
   "metadata": {},
   "outputs": [
    {
     "name": "stdout",
     "output_type": "stream",
     "text": [
      "<class 'pandas.core.frame.DataFrame'>\n",
      "RangeIndex: 950 entries, 0 to 949\n",
      "Data columns (total 21 columns):\n",
      " #   Column             Non-Null Count  Dtype  \n",
      "---  ------             --------------  -----  \n",
      " 0   LATITUDE           950 non-null    float64\n",
      " 1   LONGITUDE          950 non-null    float64\n",
      " 2   PARCELNO           950 non-null    int64  \n",
      " 3   SALE_PRC           950 non-null    float64\n",
      " 4   LND_SQFOOT         950 non-null    int64  \n",
      " 5   TOT_LVG_AREA       950 non-null    int64  \n",
      " 6   SPEC_FEAT_VAL      950 non-null    int64  \n",
      " 7   RAIL_DIST          950 non-null    float64\n",
      " 8   OCEAN_DIST         950 non-null    float64\n",
      " 9   WATER_DIST         950 non-null    float64\n",
      " 10  CNTR_DIST          950 non-null    float64\n",
      " 11  SUBCNTR_DI         950 non-null    float64\n",
      " 12  HWY_DIST           950 non-null    float64\n",
      " 13  age                950 non-null    int64  \n",
      " 14  avno60plus         950 non-null    int64  \n",
      " 15  month_sold         950 non-null    int64  \n",
      " 16  structure_quality  950 non-null    int64  \n",
      " 17  post_code          950 non-null    int64  \n",
      " 18  school count       939 non-null    float64\n",
      " 19  hosp count         939 non-null    float64\n",
      " 20  rest count         939 non-null    float64\n",
      "dtypes: float64(12), int64(9)\n",
      "memory usage: 156.0 KB\n"
     ]
    }
   ],
   "source": [
    "# Then I saved that to this CSV file, but when I read this again, you can see the reduction in values. \n",
    "\n",
    "miami_all_sample = pd.read_csv('miami_merged_data_with_API.csv')\n",
    "miami_all_sample.info()"
   ]
  },
  {
   "cell_type": "code",
   "execution_count": 9,
   "id": "04e582d8",
   "metadata": {},
   "outputs": [],
   "source": [
    "# Maybe I can try saving it to a new file and just see if those values get lost this time. \n",
    "\n",
    "miami_merged_data.to_csv(\"TESTING_Miami_merge.csv\",index=False)"
   ]
  },
  {
   "cell_type": "code",
   "execution_count": 10,
   "id": "21837d82",
   "metadata": {},
   "outputs": [
    {
     "name": "stdout",
     "output_type": "stream",
     "text": [
      "<class 'pandas.core.frame.DataFrame'>\n",
      "RangeIndex: 950 entries, 0 to 949\n",
      "Data columns (total 21 columns):\n",
      " #   Column             Non-Null Count  Dtype  \n",
      "---  ------             --------------  -----  \n",
      " 0   LATITUDE           950 non-null    float64\n",
      " 1   LONGITUDE          950 non-null    float64\n",
      " 2   PARCELNO           950 non-null    int64  \n",
      " 3   SALE_PRC           950 non-null    float64\n",
      " 4   LND_SQFOOT         950 non-null    int64  \n",
      " 5   TOT_LVG_AREA       950 non-null    int64  \n",
      " 6   SPEC_FEAT_VAL      950 non-null    int64  \n",
      " 7   RAIL_DIST          950 non-null    float64\n",
      " 8   OCEAN_DIST         950 non-null    float64\n",
      " 9   WATER_DIST         950 non-null    float64\n",
      " 10  CNTR_DIST          950 non-null    float64\n",
      " 11  SUBCNTR_DI         950 non-null    float64\n",
      " 12  HWY_DIST           950 non-null    float64\n",
      " 13  age                950 non-null    int64  \n",
      " 14  avno60plus         950 non-null    int64  \n",
      " 15  month_sold         950 non-null    int64  \n",
      " 16  structure_quality  950 non-null    int64  \n",
      " 17  post_code          950 non-null    int64  \n",
      " 18  school count       950 non-null    int64  \n",
      " 19  hosp count         950 non-null    int64  \n",
      " 20  rest count         950 non-null    int64  \n",
      "dtypes: float64(9), int64(12)\n",
      "memory usage: 156.0 KB\n"
     ]
    }
   ],
   "source": [
    "# Seems like that worked! \n",
    "\n",
    "miami_full_merge = pd.read_csv(\"TESTING_Miami_merge.csv\")\n",
    "miami_full_merge.info()"
   ]
  },
  {
   "cell_type": "code",
   "execution_count": null,
   "id": "87dfe482",
   "metadata": {},
   "outputs": [],
   "source": []
  }
 ],
 "metadata": {
  "kernelspec": {
   "display_name": "PythonData",
   "language": "python",
   "name": "pythondata"
  },
  "language_info": {
   "codemirror_mode": {
    "name": "ipython",
    "version": 3
   },
   "file_extension": ".py",
   "mimetype": "text/x-python",
   "name": "python",
   "nbconvert_exporter": "python",
   "pygments_lexer": "ipython3",
   "version": "3.7.7"
  }
 },
 "nbformat": 4,
 "nbformat_minor": 5
}
